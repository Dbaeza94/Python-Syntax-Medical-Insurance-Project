{
  "cells": [
    {
      "cell_type": "markdown",
      "metadata": {
        "id": "view-in-github",
        "colab_type": "text"
      },
      "source": [
        "<a href=\"https://colab.research.google.com/github/Dbaeza94/Python-Syntax-Medical-Insurance-Project/blob/main/Python_Loops_Medical_Insurance_Estimates_vs_Costs.ipynb\" target=\"_parent\"><img src=\"https://colab.research.google.com/assets/colab-badge.svg\" alt=\"Open In Colab\"/></a>"
      ]
    },
    {
      "cell_type": "markdown",
      "id": "7efa34ac",
      "metadata": {
        "id": "7efa34ac"
      },
      "source": [
        "# Python Loops: Medical Insurance Estimates vs. Costs Project"
      ]
    },
    {
      "cell_type": "markdown",
      "id": "3b8c8fc2",
      "metadata": {
        "id": "3b8c8fc2"
      },
      "source": [
        "You are interested in analyzing medical insurance cost data efficiently without writing repetitive code.\n",
        "\n",
        "In this project, you will use your new knowledge of Python loops to iterate through and analyze medical insurance cost data.\n",
        "\n",
        "Let's get started!"
      ]
    },
    {
      "cell_type": "markdown",
      "id": "b2d3f72c",
      "metadata": {
        "id": "b2d3f72c"
      },
      "source": [
        "## Creating a For Loop"
      ]
    },
    {
      "cell_type": "markdown",
      "id": "4af76082",
      "metadata": {
        "id": "4af76082"
      },
      "source": [
        "1. First, let's take a look at three lists in the code block below:\n",
        "   - `names` stores the names of seven individuals.\n",
        "   - `estimated_insurance_costs` stores the estimated medical insurance costs for the individuals.\n",
        "   - `actual_insurance_costs` stores the actual insurance costs paid by the individuals.\n",
        "   \n",
        "   We want to calculate the average insurance cost each person paid. We'll start by adding up all of the insurance costs.\n",
        "   \n",
        "   Create a variable `total_cost` and initialize it to `0`."
      ]
    },
    {
      "cell_type": "code",
      "execution_count": 17,
      "id": "942629ef",
      "metadata": {
        "id": "942629ef"
      },
      "outputs": [],
      "source": [
        "names = [\"Judith\", \"Abel\", \"Tyson\", \"Martha\", \"Beverley\", \"David\", \"Anabel\"]\n",
        "estimated_insurance_costs = [1000.0, 2000.0, 3000.0, 4000.0, 5000.0, 6000.0, 7000.0]\n",
        "actual_insurance_costs = [1100.0, 2200.0, 3300.0, 4400.0, 5500.0, 6600.0, 7700.0]\n",
        "total_cost = 0"
      ]
    },
    {
      "cell_type": "markdown",
      "id": "acfa961f",
      "metadata": {
        "id": "acfa961f"
      },
      "source": [
        "2. Use a `for` loop to iterate through `actual_insurance_costs` and add each insurance cost to the variable `total_cost`."
      ]
    },
    {
      "cell_type": "code",
      "execution_count": 18,
      "id": "7572afff",
      "metadata": {
        "id": "7572afff"
      },
      "outputs": [],
      "source": [
        "for cost_insurance in actual_insurance_costs:\n",
        "  total_cost += cost_insurance"
      ]
    },
    {
      "cell_type": "markdown",
      "id": "3bbc62d7",
      "metadata": {
        "id": "3bbc62d7"
      },
      "source": [
        "3. After the `for` loop, create a variable called `average_cost` that stores the `total_cost` divided by the length of the `actual_insurance_costs` list."
      ]
    },
    {
      "cell_type": "code",
      "execution_count": 19,
      "id": "bb393759",
      "metadata": {
        "id": "bb393759"
      },
      "outputs": [],
      "source": [
        "average_cost = total_cost / len(actual_insurance_costs)"
      ]
    },
    {
      "cell_type": "markdown",
      "id": "9020ae01",
      "metadata": {
        "id": "9020ae01"
      },
      "source": [
        "4. Print `average_cost` with the following message:\n",
        "\n",
        "   ```\n",
        "   Average Insurance Cost: <average_cost> dollars.\n",
        "   ```"
      ]
    },
    {
      "cell_type": "code",
      "execution_count": 20,
      "id": "cb2abd2f",
      "metadata": {
        "colab": {
          "base_uri": "https://localhost:8080/"
        },
        "id": "cb2abd2f",
        "outputId": "1eb81a85-3d89-4c96-daa2-07f4c0817014"
      },
      "outputs": [
        {
          "output_type": "stream",
          "name": "stdout",
          "text": [
            "Average Insurance Cost: 4400.0 dollars.\n"
          ]
        }
      ],
      "source": [
        "print(\"Average Insurance Cost: \" + str(average_cost) + \" dollars.\")"
      ]
    },
    {
      "cell_type": "markdown",
      "id": "8bd4231a",
      "metadata": {
        "id": "8bd4231a"
      },
      "source": [
        "## Using Range in Loops"
      ]
    },
    {
      "cell_type": "markdown",
      "id": "643ebe21",
      "metadata": {
        "id": "643ebe21"
      },
      "source": [
        "5. For each individual in `names`, we want to determine whether their insurance cost is above or below average.\n",
        "\n",
        "   Write a `for` loop with variable `i` that goes from `0` to `len(names)`.\n",
        "   \n",
        "   **Note:** If you run this loop it will return an error because there is currently no code inside of the loop. We'll fix this in the next step."
      ]
    },
    {
      "cell_type": "code",
      "execution_count": null,
      "id": "36569227",
      "metadata": {
        "id": "36569227"
      },
      "outputs": [],
      "source": [
        "for i in range(len(names)):\n",
        "  # some code in the next step"
      ]
    },
    {
      "cell_type": "markdown",
      "id": "9494673d",
      "metadata": {
        "id": "9494673d"
      },
      "source": [
        "6. Inside of the `for` loop, do the following:\n",
        "   - Create a variable `name`, which stores `names[i]`.\n",
        "   - Create a variable `insurance_cost`, which stores `actual_insurance_costs[i]`.\n",
        "   - Print out the insurance cost for each individual, with the following message:\n",
        "   ```\n",
        "   The insurance cost for <name> is <insurance_cost> dollars.\n",
        "   ```"
      ]
    },
    {
      "cell_type": "code",
      "execution_count": 22,
      "id": "7f9065e5",
      "metadata": {
        "colab": {
          "base_uri": "https://localhost:8080/"
        },
        "id": "7f9065e5",
        "outputId": "23a95362-2716-450b-a902-9de75f5c20ee"
      },
      "outputs": [
        {
          "output_type": "stream",
          "name": "stdout",
          "text": [
            "The insurance cost for Judith is 1100.0 dollars.\n",
            "The insurance cost for Abel is 2200.0 dollars.\n",
            "The insurance cost for Tyson is 3300.0 dollars.\n",
            "The insurance cost for Martha is 4400.0 dollars.\n",
            "The insurance cost for Beverley is 5500.0 dollars.\n",
            "The insurance cost for David is 6600.0 dollars.\n",
            "The insurance cost for Anabel is 7700.0 dollars.\n"
          ]
        }
      ],
      "source": [
        "for i in range(len(names)):\n",
        "  name = names[i]\n",
        "  insurance_cost = actual_insurance_costs[i]\n",
        "  print(\"The insurance cost for \" + str(name) + \" is \" + str(insurance_cost) + \" dollars.\")"
      ]
    },
    {
      "cell_type": "markdown",
      "id": "4f76f415",
      "metadata": {
        "id": "4f76f415"
      },
      "source": [
        "7. Observe the result above.\n",
        "\n",
        "   You should see the insurance costs for each of the seven individuals in `names`. The `for` loop iterated through the entire list and printed out the insurance cost for each individual."
      ]
    },
    {
      "cell_type": "markdown",
      "id": "ca6c71d9",
      "metadata": {
        "id": "ca6c71d9"
      },
      "source": [
        "## Conditions inside a Loop"
      ]
    },
    {
      "cell_type": "markdown",
      "id": "a6570594",
      "metadata": {
        "id": "a6570594"
      },
      "source": [
        "8. Inside of the `for` loop, use `if`, `elif`, `else` statements after the `print` statement to check whether the insurance cost is above, below, or equal to the average. Print out messages for each case:\n",
        "   - When `insurance_cost` is higher than the average, print out the following:\n",
        "   ```\n",
        "   The insurance cost for <name> is above average.\n",
        "   ```\n",
        "   - When `insurance_cost` is lower than the average, print out the following:\n",
        "   ```\n",
        "   The insurance cost for <name> is below average.\n",
        "   ```\n",
        "   - Otherwise, print out the following:\n",
        "   ```\n",
        "   The insurance cost for <name> is equal to the average.\n",
        "   ```"
      ]
    },
    {
      "cell_type": "code",
      "execution_count": 26,
      "id": "93ffface",
      "metadata": {
        "colab": {
          "base_uri": "https://localhost:8080/"
        },
        "id": "93ffface",
        "outputId": "50d05453-28d4-4a0f-b31e-b23370799bda"
      },
      "outputs": [
        {
          "output_type": "stream",
          "name": "stdout",
          "text": [
            "\n",
            "The insurance cost for Judith is 1100.0 dollars.\n",
            "The insurance cost for Judith is below average.\n",
            "\n",
            "The insurance cost for Abel is 2200.0 dollars.\n",
            "The insurance cost for Abel is below average.\n",
            "\n",
            "The insurance cost for Tyson is 3300.0 dollars.\n",
            "The insurance cost for Tyson is below average.\n",
            "\n",
            "The insurance cost for Martha is 4400.0 dollars.\n",
            "The insurance cost for Martha is equal to the average\n",
            "\n",
            "The insurance cost for Beverley is 5500.0 dollars.\n",
            "The insurance cost for Beverley is above average\n",
            "\n",
            "The insurance cost for David is 6600.0 dollars.\n",
            "The insurance cost for David is above average\n",
            "\n",
            "The insurance cost for Anabel is 7700.0 dollars.\n",
            "The insurance cost for Anabel is above average\n"
          ]
        }
      ],
      "source": [
        "for i in range(len(names)):\n",
        "  name = names[i]\n",
        "  insurance_cost = actual_insurance_costs[i]\n",
        "  print(\"\\nThe insurance cost for \" + str(name) + \" is \" + str(insurance_cost) + \" dollars.\")\n",
        "  if insurance_cost > average_cost:\n",
        "    print(\"The insurance cost for \" + str(name) + \" is above average\")\n",
        "  elif insurance_cost < average_cost:\n",
        "    print(\"The insurance cost for \" + str(name) + \" is below average.\")\n",
        "  else:\n",
        "    print(\"The insurance cost for \" + str(name) + \" is equal to the average\")"
      ]
    },
    {
      "cell_type": "markdown",
      "id": "e62cd4bb",
      "metadata": {
        "id": "e62cd4bb"
      },
      "source": [
        "9. Observe the output above.\n",
        "\n",
        "   You should see messages indicating the insurance cost for each of the seven individuals and where their insurance cost stands relative to the average."
      ]
    },
    {
      "cell_type": "markdown",
      "id": "82e664df",
      "metadata": {
        "id": "82e664df"
      },
      "source": [
        "## Creating a List Comprehension"
      ]
    },
    {
      "cell_type": "markdown",
      "id": "dde1e68d",
      "metadata": {
        "id": "dde1e68d"
      },
      "source": [
        "10. If you look closely at `actual_insurance_costs` and `estimated_insurance_costs`, you will notice that each of the actual insurance costs is 10% higher than the estimated insurance costs.\n",
        " \n",
        "    Using a list comprehension, create a new list called `updated_estimated_costs`, which has each element in `estimated_insurance_costs` multiplied by `11/10`."
      ]
    },
    {
      "cell_type": "code",
      "execution_count": 31,
      "id": "b5602da4",
      "metadata": {
        "id": "b5602da4"
      },
      "outputs": [],
      "source": [
        "# We can apply list comprehension\n",
        "updated_estimated_costs = [update* 11/10 for update in estimated_insurance_costs ]"
      ]
    },
    {
      "cell_type": "markdown",
      "id": "eeb071e3",
      "metadata": {
        "id": "eeb071e3"
      },
      "source": [
        "11. Print `updated_estimated_costs`.\n",
        "\n",
        "    You should see that the list now looks the same as `actual_insurance_costs`."
      ]
    },
    {
      "cell_type": "code",
      "execution_count": 33,
      "id": "6dc117e9",
      "metadata": {
        "colab": {
          "base_uri": "https://localhost:8080/"
        },
        "id": "6dc117e9",
        "outputId": "1d9e048c-dda4-4153-943d-51b5d3470340"
      },
      "outputs": [
        {
          "output_type": "stream",
          "name": "stdout",
          "text": [
            "Actual insurance cost [1100.0, 2200.0, 3300.0, 4400.0, 5500.0, 6600.0, 7700.0]\n",
            "Updated insurance cost :[1100.0, 2200.0, 3300.0, 4400.0, 5500.0, 6600.0, 7700.0]\n"
          ]
        }
      ],
      "source": [
        "print(\"Actual insurance cost \"+ str(actual_insurance_costs ))\n",
        "print(\"Updated insurance cost :\" + str(updated_estimated_costs))\n"
      ]
    },
    {
      "cell_type": "markdown",
      "id": "bc6c0a65",
      "metadata": {
        "id": "bc6c0a65"
      },
      "source": [
        "Congratulations! In this project, you used Python loops to iterate through and analyze medical insurance cost data.\n",
        "\n",
        "   As a data scientist, you want to be able to easily and efficiently go through data and perform analysis on that data without having to write repetitive code. Loops are a great place to start.\n"
      ]
    },
    {
      "cell_type": "code",
      "execution_count": null,
      "id": "a2d0b5cf",
      "metadata": {
        "id": "a2d0b5cf"
      },
      "outputs": [],
      "source": []
    }
  ],
  "metadata": {
    "kernelspec": {
      "display_name": "Python 3 (ipykernel)",
      "language": "python",
      "name": "python3"
    },
    "language_info": {
      "codemirror_mode": {
        "name": "ipython",
        "version": 3
      },
      "file_extension": ".py",
      "mimetype": "text/x-python",
      "name": "python",
      "nbconvert_exporter": "python",
      "pygments_lexer": "ipython3",
      "version": "3.7.11"
    },
    "colab": {
      "provenance": [],
      "include_colab_link": true
    }
  },
  "nbformat": 4,
  "nbformat_minor": 5
}