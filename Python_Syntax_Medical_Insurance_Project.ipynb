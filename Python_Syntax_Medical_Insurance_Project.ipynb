{
  "nbformat": 4,
  "nbformat_minor": 0,
  "metadata": {
    "colab": {
      "provenance": [],
      "authorship_tag": "ABX9TyNcjD+8EWchskMI5cvDanmW",
      "include_colab_link": true
    },
    "kernelspec": {
      "name": "python3",
      "display_name": "Python 3"
    },
    "language_info": {
      "name": "python"
    }
  },
  "cells": [
    {
      "cell_type": "markdown",
      "metadata": {
        "id": "view-in-github",
        "colab_type": "text"
      },
      "source": [
        "<a href=\"https://colab.research.google.com/github/Dbaeza94/Python-Syntax-Medical-Insurance-Project/blob/main/Python_Syntax_Medical_Insurance_Project.ipynb\" target=\"_parent\"><img src=\"https://colab.research.google.com/assets/colab-badge.svg\" alt=\"Open In Colab\"/></a>"
      ]
    },
    {
      "cell_type": "markdown",
      "source": [
        "# **Python Syntax: Medical Insurance Project**\n"
      ],
      "metadata": {
        "id": "2tbXY7bJIUrJ"
      }
    },
    {
      "cell_type": "markdown",
      "source": [
        "Suppose you are a medical professional curious about how certain factors contribute to medical insurance costs. Using a formula that estimates a person's yearly insurance costs, you will investigate how different factors such as age, sex, BMI, etc. affect the prediction."
      ],
      "metadata": {
        "id": "s1R4gFGvIb95"
      }
    },
    {
      "cell_type": "markdown",
      "source": [
        "## **Setting up Factors**"
      ],
      "metadata": {
        "id": "JH04oHi7Ier6"
      }
    },
    {
      "cell_type": "markdown",
      "source": [
        "1. Our first step is to create the variables for each factor we will \n",
        "consider when estimating medical insurance costs.\n",
        "\n",
        "  These are the variables we will need to create:\n",
        "\n",
        "*   age: age of the individual in years\n",
        "*   sex: 0 for female, 1 for male*\n",
        "*   bmi: individual’s body mass index\n",
        "*   num_of_children: number of children the individual has\n",
        "*   smoker: 0 for a non-smoker, 1 for a smoker\n",
        "\n",
        "-- > Create the following variables for a 28-year-old, nonsmoking woman who has three children and a BMI of 26.2.\n",
        "\n",
        "-- >   **Note**: We are using this [medical insurance dataset](https://www.kaggle.com/mirichoi0218/insurance) as a guide, which unfortunately does not include data for non-binary individuals.\n"
      ],
      "metadata": {
        "id": "ojp9eOZbJZPx"
      }
    },
    {
      "cell_type": "code",
      "source": [
        "age = 28\n",
        "sex = 0\n",
        "bmi = 26.2\n",
        "num_of_children = 3\n",
        "smoker = 0"
      ],
      "metadata": {
        "id": "fHEpMN1dKbJc"
      },
      "execution_count": null,
      "outputs": []
    },
    {
      "cell_type": "markdown",
      "source": [
        "2. After the declaration of the variables, create a variable called insurance_cost that utilizes the following formula:\n",
        "\n",
        "   $$\n",
        "   \\begin{aligned}\n",
        "   insurance\\_cost = 250*age - 128*sex \\\\\n",
        "   + 370*bmi + 425*num\\_of\\_children \\\\\n",
        "   + 24000*smoker - 12500 \\\\\n",
        "   \\end{aligned}\n",
        "   $$\n"
      ],
      "metadata": {
        "id": "FBtI24fYLYTP"
      }
    },
    {
      "cell_type": "code",
      "source": [
        "insurance_cost = 250 * age - 128*sex + 370*bmi + 425*num_of_children + 24000*smoker - 12500\n"
      ],
      "metadata": {
        "id": "jIUQ8I_rVOlq"
      },
      "execution_count": null,
      "outputs": []
    },
    {
      "cell_type": "markdown",
      "source": [
        "\n",
        "3. Let’s display this value in an informative way. Print out the following string in the terminal:"
      ],
      "metadata": {
        "id": "LOLn_o9NVoet"
      }
    },
    {
      "cell_type": "code",
      "source": [
        "#The output should be: This person's insurance cost is 5469.0 dolars\n",
        "print(\"This person's insurance cost is\",str(insurance_cost), \"dolars\")\n"
      ],
      "metadata": {
        "colab": {
          "base_uri": "https://localhost:8080/"
        },
        "id": "DwAIovhhVs4G",
        "outputId": "c60e43de-ef91-4113-9a33-6ae50948922e"
      },
      "execution_count": null,
      "outputs": [
        {
          "output_type": "stream",
          "name": "stdout",
          "text": [
            "This person's insurance cost is 5469.0 dolars\n"
          ]
        }
      ]
    },
    {
      "cell_type": "markdown",
      "source": [
        "## **Looking at Age Factor**"
      ],
      "metadata": {
        "id": "kh8UrDA2fFLc"
      }
    },
    {
      "cell_type": "markdown",
      "source": [
        "\n",
        "4. We have seen how our formula can estimate costs for one individual. Now let’s play with some individual factors to see what role each one plays in our estimation!\n",
        "\n",
        "  Let’s start with the ***age*** factor. Using a plus-equal operator, add 4 years to our ***age*** variable."
      ],
      "metadata": {
        "id": "UjGH6ftHXlGa"
      }
    },
    {
      "cell_type": "code",
      "source": [
        "age += 4"
      ],
      "metadata": {
        "id": "tc9rrjFGXtZC"
      },
      "execution_count": null,
      "outputs": []
    },
    {
      "cell_type": "markdown",
      "source": [
        "5. Now that we have changed our age value, we want to recalculate our insurance cost. Declare a new variable called ***new_insurance_cost*** underneath the expression that increased age by 4.\n",
        "\n",
        "  Make sure you leave the line with the ***insurance_cost*** variable the same. We will use it later in our program!"
      ],
      "metadata": {
        "id": "HEaTPGuiaF13"
      }
    },
    {
      "cell_type": "code",
      "source": [
        "new_insurance_cost = 250 * age - 128*sex + 370*bmi + 425*num_of_children + 24000*smoker - 12500\n",
        "new_insurance_cost"
      ],
      "metadata": {
        "colab": {
          "base_uri": "https://localhost:8080/"
        },
        "id": "WPm7K3dGaV_k",
        "outputId": "c16bcb32-0129-43a4-f88d-db46c8486faf"
      },
      "execution_count": null,
      "outputs": [
        {
          "output_type": "execute_result",
          "data": {
            "text/plain": [
              "6469.0"
            ]
          },
          "metadata": {},
          "execution_count": 65
        }
      ]
    },
    {
      "cell_type": "markdown",
      "source": [
        "6. Next, we want to find the difference between our `new_insurance_cost` and `insurance_cost`. To do this, let's create a new variable called `change_in_insurance_cost` and set it equal to the difference between `new_insurance_cost` and `insurance_cost`.\n",
        "\n",
        "   Note: depending on the order that we subtract (eg., `new_insurance_cost - insurance_cost` vs. `insurance_cost - new_insurance_cost`), we'll get a positive or negative version of the same number."
      ],
      "metadata": {
        "id": "1YW1jmrJao7h"
      }
    },
    {
      "cell_type": "code",
      "source": [
        "change_in_insurance_cost =  new_insurance_cost  - insurance_cost\n",
        "change_in_insurance_cost"
      ],
      "metadata": {
        "colab": {
          "base_uri": "https://localhost:8080/"
        },
        "id": "-7k0sfFacjJS",
        "outputId": "603478e0-63e5-41f3-f65e-84baa1e1bdf6"
      },
      "execution_count": null,
      "outputs": [
        {
          "output_type": "execute_result",
          "data": {
            "text/plain": [
              "1000.0"
            ]
          },
          "metadata": {},
          "execution_count": 69
        }
      ]
    },
    {
      "cell_type": "markdown",
      "source": [
        "7. We want to display this information in an informative way similar to the output from instruction 3. On the next line, print the following string in the terminal, where **XXX** is replaced by the value of ***change_in_insurance_cost***:\n",
        " ```\n",
        "   The change in cost of insurance after increasing the age by 4 years is XXX dollars.\n",
        "   ```"
      ],
      "metadata": {
        "id": "mCTEaU57eDRg"
      }
    },
    {
      "cell_type": "code",
      "source": [
        "print(\"The change in cost of insurance after increasing the age by 4 years is\", str(change_in_insurance_cost), \"dollars.\")"
      ],
      "metadata": {
        "colab": {
          "base_uri": "https://localhost:8080/"
        },
        "id": "g7mK16NlegYJ",
        "outputId": "635d447c-f6be-45c8-cd49-b01e138bae14"
      },
      "execution_count": null,
      "outputs": [
        {
          "output_type": "stream",
          "name": "stdout",
          "text": [
            "The change in cost of insurance after increasing the age by 4 years is 1000.0 dollars.\n"
          ]
        }
      ]
    },
    {
      "cell_type": "markdown",
      "source": [
        "## **Looking at BMI Factor**"
      ],
      "metadata": {
        "id": "6Af3RSmgetwO"
      }
    },
    {
      "cell_type": "markdown",
      "source": [
        "8. Now that you have looked at the age factor, let’s move onto another one: BMI. First, we have to redefine our age variable to be its original value.\n",
        "\n",
        "  Set ***age*** to 28 following your last piece of code. This will reset its value and allow us to focus on just the change in the BMI factor moving forward.\n",
        "\n",
        "  On the next line, using the plus-equal operator, add 3.1 to our ***bmi*** variable"
      ],
      "metadata": {
        "id": "POgf4ZZcfNTW"
      }
    },
    {
      "cell_type": "code",
      "source": [
        "age = 28\n",
        "bmi += 3.1\n"
      ],
      "metadata": {
        "id": "26Z9s_nTes6r"
      },
      "execution_count": null,
      "outputs": []
    },
    {
      "cell_type": "markdown",
      "source": [
        "9. Now let's find out how a change in BMI affects insurance costs. Our next steps are pretty much the same as we have done before when looking at `age`.\n",
        "   1. Below the line where `bmi` was increased by `3.1`, rewrite the insurance cost formula and assign it to the variable name **new_insurance_costBMI**.\n",
        "   2. Save the difference between **new_insurance_costBMI** and **insurance_cost** in a variable called **change_in_insurance_costBMI**.\n",
        "   3. Display the following string in the output terminal, where **XXX** is replaced by the value of **change_in_insurance_costBMI**:\n",
        "\n",
        "    ```py\n",
        "   The change in estimated insurance cost after increasing BMI by 3.1 is XXX dollars.\n",
        "   ```"
      ],
      "metadata": {
        "id": "ytZmrbP0FZT8"
      }
    },
    {
      "cell_type": "code",
      "source": [
        "# Below the line where bmi was increased by 3.1, rewrite the insurance cost formula and assign it to the variable name new_insurance_costBMI.\n",
        "new_insurance_costBMI = 250 * age - 128*sex + 370*bmi + 425*num_of_children + 24000*smoker - 12500\n",
        "\n",
        "# Save the difference between **new_insurance_costBMI** and **insurance_cost** in a variable called\n",
        "change_in_insurance_costBMI = new_insurance_costBMI  - insurance_cost\n",
        "\n",
        "# Display the following string in the output terminal, where **XXX** is replaced by the value of **change_in_insurance_costBMI**\n",
        "print(\"The change in estimated insurance cost after increasing BMI by 3.1 is\", str(change_in_insurance_costBMI), \"dollars\")"
      ],
      "metadata": {
        "colab": {
          "base_uri": "https://localhost:8080/"
        },
        "id": "cXr_ar7WesvW",
        "outputId": "579c6a1e-fb43-40e2-fc62-f632cbf2ef39"
      },
      "execution_count": null,
      "outputs": [
        {
          "output_type": "stream",
          "name": "stdout",
          "text": [
            "The change in estimated insurance cost after increasing BMI by 3.1 is 1147.0 dollars\n"
          ]
        }
      ]
    },
    {
      "cell_type": "markdown",
      "source": [
        "\n",
        "\n",
        "## **Looking at Male vs. Female Factor**"
      ],
      "metadata": {
        "id": "0y4S3CgkI8tz"
      }
    },
    {
      "cell_type": "markdown",
      "source": [
        "10. Let's look at the effect sex has on medical insurance costs. Before we make any additional changes, first reassign your `bmi` variable back to its original value of `26.2`.\n",
        "\n",
        "    On a new line of code in the code block below, reassign the value of `sex` to `1`. A reminder that `1` identifies male individuals and `0` identifies female individuals."
      ],
      "metadata": {
        "id": "VBJsrjnGI_iV"
      }
    },
    {
      "cell_type": "code",
      "source": [
        "bmi = 26.2\n",
        "sex = 1"
      ],
      "metadata": {
        "id": "3L-7gdktGLhd"
      },
      "execution_count": null,
      "outputs": []
    },
    {
      "cell_type": "markdown",
      "source": [
        "11. Perform the steps below!\n",
        "    1. Rewrite the insurance cost formula and assign it to the variable name **new_insurance_costSEX**.\n",
        "    2. Save the difference between **new_insurance_costSEX** and **insurance_cost** in a variable called **change_in_insurance_costSEX**.\n",
        "    3. Display the following string, where **XXX** is replaced by the value of **change_in_insurance_costSEX**:\n",
        "    ```\n",
        "    The change in estimated cost for being male instead of female is XXX dollars.\n",
        "    ```"
      ],
      "metadata": {
        "id": "gaBq5bBjLaAX"
      }
    },
    {
      "cell_type": "code",
      "source": [
        "# Rewrite the insurance cost formula and assign it to the variable name new_insurance_costSEX.\n",
        "new_insurance_costSEX = 250 * age - 128*sex + 370*bmi + 425*num_of_children + 24000*smoker - 12500\n",
        "\n",
        "# Save the difference between new_insurance_costSEX and insurance_cost in a variable called change_in_insurance_costSEX.\n",
        "change_in_insurance_costSEX = new_insurance_costSEX  - insurance_cost\n",
        "\n",
        "# Display the following string, where XXX is replaced by the value of change_in_insurance_cost\n",
        "print(\"The change in estimated cost for being male instead of female is\", str(change_in_insurance_costSEX), \"dollars.\")"
      ],
      "metadata": {
        "colab": {
          "base_uri": "https://localhost:8080/"
        },
        "id": "Cq22UDXQLyzI",
        "outputId": "054edfea-25a0-4271-a3c8-86f544507c10"
      },
      "execution_count": null,
      "outputs": [
        {
          "output_type": "stream",
          "name": "stdout",
          "text": [
            "The change in estimated cost for being male instead of female is -128.0 dollars.\n"
          ]
        }
      ]
    },
    {
      "cell_type": "markdown",
      "source": [
        "12. Notice that this time you got a negative value for **change_in_insurance_cost**. Let's think about what that means. We changed the sex variable from **0** (female) to **1** (male) and it decreased the estimated insurance costs.\n",
        "\n",
        "    *This means that men tend to have lower medical costs on average than women*. Reflect on the other findings you have dug up from this investigation so far."
      ],
      "metadata": {
        "id": "3p78W0-cO3O9"
      }
    },
    {
      "cell_type": "markdown",
      "source": [
        "# **Extra practice**"
      ],
      "metadata": {
        "id": "VuaQyIxhQTWQ"
      }
    },
    {
      "cell_type": "markdown",
      "source": [
        "13. Great job on the project!!!\n",
        "\n",
        "    So far we have looked at 3 of the 5 factors in the insurance costs formula. The two remaining are **smoker** and **num_of_children**. If you want to keep challenging yourself, spend some time investigating these factors!\n",
        "    Note: we already wok with number of children(more than 1) and you want to, you replace the number above to chek the difference **\n",
        "    1. Rewrite the insurance cost formula and assign it to the variable name **new_insurance_cost**.\n",
        "    2. Save the difference between **new_insurance_cost** in a variable called **change_in_insurance_cost**.\n",
        "    3. Display the information below!"
      ],
      "metadata": {
        "id": "LX2zCiBEQYb4"
      }
    },
    {
      "cell_type": "markdown",
      "source": [
        "\n",
        "\n",
        "#### **13.1 Smoker Factor**"
      ],
      "metadata": {
        "id": "S20MXPGMQ6QF"
      }
    },
    {
      "cell_type": "markdown",
      "source": [
        "\n",
        "  On a new line of code in the code block below, reassign the value of `smoker` to `1`. A reminder that `1` identifies smoker individuals and `0` identifies no smoker individuals.\n",
        "\n"
      ],
      "metadata": {
        "id": "GQZOXSYURFmk"
      }
    },
    {
      "cell_type": "code",
      "source": [
        "smoker = 1"
      ],
      "metadata": {
        "id": "6NcAdCTlV9pL"
      },
      "execution_count": null,
      "outputs": []
    },
    {
      "cell_type": "markdown",
      "source": [
        "Perform the steps below!\n",
        "1. Rewrite the insurance cost formula and assign it to the variable name **new_insurance_costSmoker**.\n",
        "2. Save the difference between **new_insurance_costSmoker** and **insurance_cost** in a variable called **change_in_insurance_costSmoker**.\n",
        "3. Display the following string, where **XXX** is replaced by the value of **change_in_insurance_costSmoker**:\n",
        "    ```\n",
        "    The change in estimated cost for being smoker instead of no smoker is XXX dollars.\n",
        "    ```"
      ],
      "metadata": {
        "id": "jxENYxVBWar6"
      }
    },
    {
      "cell_type": "code",
      "source": [
        "# Rewrite the insurance cost formula and assign it to the variable name new_insurance_costSmoker.\n",
        "new_insurance_costSmoker = 250 * age - 128*sex + 370*bmi + 425*num_of_children + 24000*smoker - 12500\n",
        "\n",
        "# Save the difference between new_insurance_costSmoker and insurance_cost in a variable called change_in_insurance_costSmoker.\n",
        "change_in_insurance_costSmoker = new_insurance_costSmoker  - insurance_cost\n",
        "print(\"The change in estimated cost for being smoker instead of no smoker is\", str(change_in_insurance_costSmoker), \"dollars.\")"
      ],
      "metadata": {
        "colab": {
          "base_uri": "https://localhost:8080/"
        },
        "id": "E0BR5cPDWx7Z",
        "outputId": "f6505d5b-19f7-45c7-bb4b-40661fc396d8"
      },
      "execution_count": null,
      "outputs": [
        {
          "output_type": "stream",
          "name": "stdout",
          "text": [
            "The change in estimated cost for being smoker instead of no smoker is 24000.0 dollars.\n"
          ]
        }
      ]
    },
    {
      "cell_type": "markdown",
      "source": [
        "This is a clear example of the fact that being a smoker brings higher costs for the insurance because smoking is an aggravating factor for any health problem that may occur."
      ],
      "metadata": {
        "id": "Arv5kCAQaMa0"
      }
    },
    {
      "cell_type": "markdown",
      "source": [
        "# **Functions Python Syntax: Medical Insurance Project**\n",
        " \n",
        "\n",
        "*   We already know how to work with a basic equation in python to get a result and then a insight from small analysis.\n",
        "*   Now we are going to work with functions to automate all we have done above in a simple way for each patient we look at."
      ],
      "metadata": {
        "id": "XXOSC1Vm98gb"
      }
    },
    {
      "cell_type": "markdown",
      "source": [
        "## **Creating a Function**"
      ],
      "metadata": {
        "id": "s74m16k9BsgH"
      }
    },
    {
      "cell_type": "markdown",
      "source": [
        "\n",
        "\n",
        "1.   First, let's take a look again at the code. In this code, we estimate the medical insurance costs for two individuals, **Maria** and **Omar**, based on five variables as you saw at the begining:\n",
        "\n",
        "\n",
        "\n",
        "*  age: age of the individual in years\n",
        "*  sex: 0 for female, 1 for male\n",
        "*  bmi: individual’s body mass index\n",
        "*  num_of_children: number of children the individual has\n",
        "*  smoker: 0 for a non-smoker, 1 for a smoker\n",
        "\n",
        "***Note: These variables are used in the following formula to estimate an individual’s insurance cost (in USD):***\n",
        "\n",
        "  $$\n",
        "   \\begin{aligned}\n",
        "   insurance\\_cost = 250*age - 128*sex \\\\\n",
        "   + 370*bmi + 425*num\\_of\\_children \\\\\n",
        "   + 24000*smoker - 12500 \\\\\n",
        "   \\end{aligned}\n",
        "   $$\n",
        "\n",
        "\n",
        "\n"
      ],
      "metadata": {
        "id": "siZw7liNB8zT"
      }
    },
    {
      "cell_type": "code",
      "source": [
        "# Initial variables for Maria \n",
        "age = 28\n",
        "sex = 0  \n",
        "bmi = 26.2\n",
        "num_of_children = 3\n",
        "smoker = 0  \n",
        "\n",
        "# Estimate Maria's insurance cost\n",
        "insurance_cost = 250*age - 128*sex + 370*bmi + 425*num_of_children + 24000*smoker - 12500\n",
        "print(\"The estimated insurance cost for Maria is \" + str(insurance_cost) + \" dollars.\")\n",
        "\n",
        "# Initial variables for Omar\n",
        "age = 35\n",
        "sex = 1 \n",
        "bmi = 22.2\n",
        "num_of_children = 0\n",
        "smoker = 1  \n",
        "\n",
        "# Estimate Omar's insurance cost \n",
        "insurance_cost = 250*age - 128*sex + 370*bmi + 425*num_of_children + 24000*smoker - 12500\n",
        "\n",
        "print(\"The estimated insurance cost for Omar is \" + str(insurance_cost) + \" dollars.\")"
      ],
      "metadata": {
        "colab": {
          "base_uri": "https://localhost:8080/"
        },
        "id": "j41L_37TE3lx",
        "outputId": "cd4f21f3-4264-4ac7-d4d5-218e624c36b9"
      },
      "execution_count": null,
      "outputs": [
        {
          "output_type": "stream",
          "name": "stdout",
          "text": [
            "The estimated insurance cost for Maria is 5469.0 dollars.\n",
            "The estimated insurance cost for Omar is 28336.0 dollars.\n"
          ]
        }
      ]
    },
    {
      "cell_type": "markdown",
      "source": [
        "2. The code used to estimate insurance costs for **Maria** and **Omar** looks quite similar – in both cases we calculate the insurance cost using the same formula and then print the output.\n",
        "\n",
        "  This code is a great candidate for a function because it involves repeating almost identical commands in multiple places.\n",
        "\n",
        "  Let’s start by defining a function called **calculate_insurance_cost()**.  For now, your function should not have any parameters or output.\n",
        "\n"
      ],
      "metadata": {
        "id": "reY7bCr1EXJW"
      }
    },
    {
      "cell_type": "code",
      "source": [
        " #Create calculate_insurance_cost() function below: \n",
        " # def calculate_insurance_cost():"
      ],
      "metadata": {
        "id": "19D27wbmAgcy"
      },
      "execution_count": null,
      "outputs": []
    },
    {
      "cell_type": "markdown",
      "source": [
        "3.  Let’s outline the behavior we want our function to have. Inside of calculate_insurance_cost(), do the following:\n",
        "\n",
        "  Create a variable called **estimated_cost**. For now, set this variable equal to a **value** of **1000**. You’ll add the full formula in the next step.\n",
        "Add a **print** statement that prints **estimated_cost**. You should output a message similar to: \"The estimated insurance cost for this person is xxx dollars.\"\n",
        "  \n",
        "  **Return estimated_cost**"
      ],
      "metadata": {
        "id": "YiHB5nPsG9r3"
      }
    },
    {
      "cell_type": "markdown",
      "source": [
        "#### *Remember Hint:*\n",
        "\n",
        "```\n",
        "# def name_function():\n",
        "    block of function task\n",
        "    return\n",
        "\n",
        "# Then you can call the function as follows:\n",
        "name_function()\n",
        "```\n",
        "\n",
        "\n",
        "\n",
        "\n",
        "\n",
        "\n"
      ],
      "metadata": {
        "id": "0d_7TnP963Db"
      }
    },
    {
      "cell_type": "code",
      "source": [
        "def calculate_insurance_cost():\n",
        "  estimated_cost = 1000\n",
        "  print(\"The estimated insurance cost for this person is \" + str(estimated_cost) + \" dollars.\")\n",
        "  return estimated_cost\n",
        "\n",
        "\n",
        "calculate_insurance_cost()"
      ],
      "metadata": {
        "colab": {
          "base_uri": "https://localhost:8080/"
        },
        "id": "oC-K6tcx1WBv",
        "outputId": "0e11e5f3-2409-40fd-ed73-2bf2770a5371"
      },
      "execution_count": 5,
      "outputs": [
        {
          "output_type": "stream",
          "name": "stdout",
          "text": [
            "The estimated insurance cost for this person is 1000 dollars.\n"
          ]
        },
        {
          "output_type": "execute_result",
          "data": {
            "text/plain": [
              "1000"
            ]
          },
          "metadata": {},
          "execution_count": 5
        }
      ]
    },
    {
      "cell_type": "markdown",
      "source": [
        "4. Nice job – you’ve created a simple Python function that we’ll use to estimate medical insurance costs.\n",
        "\n",
        "  However, the function currently returns a value of 1000. We want it to return our insurance cost formula instead.\n",
        "\n",
        "  Modify the function definition so that it contains five parameters:\n",
        "\n",
        "*  age\n",
        "*  sex\n",
        "*  bmi\n",
        "*  num_of_children\n",
        "*  smoker\n",
        "  \n",
        "  Take a look at the hint if you need a reminder on how to add parameters to a function definition."
      ],
      "metadata": {
        "id": "xGKPqkBP6SP_"
      }
    },
    {
      "cell_type": "code",
      "source": [
        "def calculate_insurance_cost(age, sex, bmi, num_of_children, smoker):\n",
        "  estimated_cost = 1000\n",
        "  print(\"The estimated insurance cost for this person is \" + str(estimated_cost) + \" dollars.\")\n",
        "  return estimated_cost\n"
      ],
      "metadata": {
        "id": "PDEiL9wY6Rnd"
      },
      "execution_count": null,
      "outputs": []
    },
    {
      "cell_type": "markdown",
      "source": [
        "5. Now that we have set up the function to take inputs for each of the values needed in the insurance formula, we can make use of them inside of our function.\n",
        "\n",
        "  In **calculate_insurance_cost()**, change the value of **estimated_cost** from 1000 to our formula for insurance cost.\n",
        "\n",
        "  ***Formula hint:***\n",
        "\n",
        "\n",
        "```\n",
        "insurance_cost = 250*age - 128*sex + 370*bmi + 425*num_of_children + 24000*smoker - 12500\n",
        "```\n",
        "\n"
      ],
      "metadata": {
        "id": "Ny4u9YHr9b6i"
      }
    },
    {
      "cell_type": "code",
      "source": [
        "def calculate_insurance_cost(age, sex, bmi, num_of_children, smoker):\n",
        "  estimated_cost = insurance_cost = 250*age - 128*sex + 370*bmi + 425*num_of_children + 24000*smoker - 12500\n",
        "  print(\"The estimated insurance cost for this person is \" + str(estimated_cost) + \" dollars.\")\n",
        "  return estimated_cost"
      ],
      "metadata": {
        "id": "rrX4d_Aq-3Tu"
      },
      "execution_count": 14,
      "outputs": []
    },
    {
      "cell_type": "markdown",
      "source": [
        "6. The function is now properly set up to calculate an individual’s medical insurance costs based on the five variables passed into it. Let’s test this out!\n",
        "\n",
        "  Go to the section of code that estimates Maria’s insurance cost.\n",
        "\n",
        "  Rename **insurance_cost** as **maria_insurance_cost** and set it equal to **calculate_insurance_cost()** with the appropriate values for Maria as arguments."
      ],
      "metadata": {
        "id": "44HXfrG2-98y"
      }
    },
    {
      "cell_type": "code",
      "source": [
        "# Initial variables for Maria \n",
        "age = 28\n",
        "sex = 0  \n",
        "bmi = 26.2\n",
        "num_of_children = 3\n",
        "smoker = 0  \n",
        "\n",
        "# Estimate Maria's insurance cost\n",
        "maria_insurance_cost = calculate_insurance_cost(age=28, sex=0, bmi=26.2, num_of_children=3, smoker=0)\n",
        "\n"
      ],
      "metadata": {
        "colab": {
          "base_uri": "https://localhost:8080/"
        },
        "id": "UCQtxGlDCzF0",
        "outputId": "00139f97-05d4-4e43-e187-a4b78d4f9465"
      },
      "execution_count": 18,
      "outputs": [
        {
          "output_type": "stream",
          "name": "stdout",
          "text": [
            "The estimated insurance cost for this person is 5469.0 dollars.\n"
          ]
        }
      ]
    },
    {
      "cell_type": "markdown",
      "source": [
        "7.  Repeat it for **Omar**:\n",
        "\n",
        "  Rename **insurance_cost** as **omar_insurance_cost** and set it equal to the **calculate_insurance_cost()** function, passing in the appropriate values as arguments.\n",
        "  Remove the initial variables and print statement for **Omar**."
      ],
      "metadata": {
        "id": "2hAKy2jqG1zo"
      }
    },
    {
      "cell_type": "code",
      "source": [
        "# Initial variables for Omar\n",
        "age = 35\n",
        "sex = 1 \n",
        "bmi = 22.2\n",
        "num_of_children = 0\n",
        "smoker = 1  \n",
        "\n",
        "# Estimate Omar's insurance cost\n",
        "omar_insurance_cost = calculate_insurance_cost(age=35, sex=1, bmi=22.2, num_of_children=0, smoker=1)"
      ],
      "metadata": {
        "colab": {
          "base_uri": "https://localhost:8080/"
        },
        "id": "H7oVgmPUI9oX",
        "outputId": "2968fafa-fca3-4587-a293-997bfbb5eabb"
      },
      "execution_count": 19,
      "outputs": [
        {
          "output_type": "stream",
          "name": "stdout",
          "text": [
            "The estimated insurance cost for this person is 28336.0 dollars.\n"
          ]
        }
      ]
    },
    {
      "cell_type": "markdown",
      "source": [
        "**Notice how much cleaner our code is now! By utilizing a Python function, we were able to condense many lines of code into just a few.*"
      ],
      "metadata": {
        "id": "NIfcysSUJsMp"
      }
    },
    {
      "cell_type": "markdown",
      "source": [
        "8. In the output terminal, notice that it says \"*The estimated insurance cost for this person is...*\" but it does not specify the actual name of the person.\n",
        "\n",
        "  To fix this, begin by adding an additional parameter called name to the function definition.\n",
        "\n",
        "  Next, modify the print statement in the function so that it includes the new name parameter, replacing \"*this person*\" with the actual *name* of the person."
      ],
      "metadata": {
        "id": "ArdLt1-LJopK"
      }
    },
    {
      "cell_type": "code",
      "source": [
        "def calculate_insurance_cost(name, age, sex, bmi, num_of_children, smoker):\n",
        "  estimated_cost = insurance_cost = 250*age - 128*sex + 370*bmi + 425*num_of_children + 24000*smoker - 12500\n",
        "  print(\"The estimated insurance cost for \"+ name +\" is \" + str(estimated_cost) + \" dollars.\")\n",
        "  return estimated_cost"
      ],
      "metadata": {
        "id": "EtwGSpZNKTQ-"
      },
      "execution_count": 21,
      "outputs": []
    },
    {
      "cell_type": "markdown",
      "source": [
        "9. We must also update our function calls, passing in the name variable as an argument.\n",
        "\n",
        "  Update the function call for maria_insurance_cost, passing in name = \"Maria\" as an argument.\n",
        "\n",
        "  Do the same for Omar, passing in name = \"Omar\"."
      ],
      "metadata": {
        "id": "Yi3ZPXCELaNe"
      }
    },
    {
      "cell_type": "code",
      "source": [
        "# Initial variables for Maria \n",
        "name = 'Maria'\n",
        "age = 28\n",
        "sex = 0  \n",
        "bmi = 26.2\n",
        "num_of_children = 3\n",
        "smoker = 0  \n",
        "\n",
        "# Estimate Maria's insurance cost\n",
        "maria_insurance_cost = calculate_insurance_cost(name='Maria', age=28, sex=0, bmi=26.2, num_of_children=3, smoker=0)"
      ],
      "metadata": {
        "colab": {
          "base_uri": "https://localhost:8080/"
        },
        "id": "cJca7OfFLhxd",
        "outputId": "7f1a4c41-51ca-4f20-a60a-7d2cb13142bc"
      },
      "execution_count": 22,
      "outputs": [
        {
          "output_type": "stream",
          "name": "stdout",
          "text": [
            "The estimated insurance cost for Maria is 5469.0 dollars.\n"
          ]
        }
      ]
    },
    {
      "cell_type": "code",
      "source": [
        "# Initial variables for Omar\n",
        "name = 'Omar'\n",
        "age = 35\n",
        "sex = 1 \n",
        "bmi = 22.2\n",
        "num_of_children = 0\n",
        "smoker = 1  \n",
        "\n",
        "# Estimate Omar's insurance cost\n",
        "omar_insurance_cost = calculate_insurance_cost(name='Omar', age=35, sex=1, bmi=22.2, num_of_children=0, smoker=1)"
      ],
      "metadata": {
        "colab": {
          "base_uri": "https://localhost:8080/"
        },
        "id": "NA-_cSs0Llu9",
        "outputId": "4ecb874d-d5e5-4deb-8418-4552c9df4041"
      },
      "execution_count": 23,
      "outputs": [
        {
          "output_type": "stream",
          "name": "stdout",
          "text": [
            "The estimated insurance cost for Omar is 28336.0 dollars.\n"
          ]
        }
      ]
    },
    {
      "cell_type": "markdown",
      "source": [
        "###  In this example, we calculated the insurance costs for two individuals, but with our new code we can easily extend this to thousands or even millions of individuals.\n",
        "\n",
        "### To illustrate, estimate your own insurance cost. Happy Coding!"
      ],
      "metadata": {
        "id": "bDuwoeChNBOq"
      }
    }
  ]
}