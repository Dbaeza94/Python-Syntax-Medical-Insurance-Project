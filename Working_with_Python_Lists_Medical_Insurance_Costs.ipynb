{
  "cells": [
    {
      "cell_type": "markdown",
      "metadata": {
        "id": "view-in-github",
        "colab_type": "text"
      },
      "source": [
        "<a href=\"https://colab.research.google.com/github/Dbaeza94/Python-Syntax-Medical-Insurance-Project/blob/main/Working_with_Python_Lists_Medical_Insurance_Costs.ipynb\" target=\"_parent\"><img src=\"https://colab.research.google.com/assets/colab-badge.svg\" alt=\"Open In Colab\"/></a>"
      ]
    },
    {
      "cell_type": "markdown",
      "id": "3d8b0184",
      "metadata": {
        "id": "3d8b0184"
      },
      "source": [
        "# Working with Python Lists: Medical Insurance Costs Project"
      ]
    },
    {
      "cell_type": "markdown",
      "id": "b124b501",
      "metadata": {
        "id": "b124b501"
      },
      "source": [
        "You are a doctor sorting through medical insurance cost data for some patients.\n",
        "\n",
        "Using your knowledge of Python lists, you will store medical data and see what valuable insights you can gain from that data.\n",
        "\n",
        "Let's get started!"
      ]
    },
    {
      "cell_type": "markdown",
      "id": "3967696d",
      "metadata": {
        "id": "3967696d"
      },
      "source": [
        "## Exploring List Data"
      ]
    },
    {
      "cell_type": "markdown",
      "id": "5c1ed983",
      "metadata": {
        "id": "5c1ed983"
      },
      "source": [
        "1. First, take a look at the two lists in the code block below.\n",
        "\n",
        "   The list `names` stores the names of ten individuals, and `insurance_costs` stores their medical insurance costs.\n",
        "   \n",
        "   Let's add additional data to these lists:\n",
        "   - Append a new individual, `\"Priscilla\"`, to `names`.\n",
        "   - Append her insurance cost, `8320.0` to `insurance_costs`."
      ]
    },
    {
      "cell_type": "code",
      "execution_count": 1,
      "id": "b49d92da",
      "metadata": {
        "id": "b49d92da"
      },
      "outputs": [],
      "source": [
        "names = [\"Mohamed\", \"Sara\", \"Xia\", \"Paul\", \"Valentina\", \"Jide\", \"Aaron\", \"Emily\", \"Nikita\", \"Paul\"]\n",
        "insurance_costs = [13262.0, 4816.0, 6839.0, 5054.0, 14724.0, 5360.0, 7640.0, 6072.0, 2750.0, 12064.0]\n",
        "\n",
        "# Append a new individual, \"Priscilla\", to names\n",
        "names.append(\"Priscilla\")\n",
        "\n",
        "# Append her insurance cost, 8320.0 to insurance_costs\n",
        "insurance_costs.append(8320.0)"
      ]
    },
    {
      "cell_type": "markdown",
      "id": "3e8995c6",
      "metadata": {
        "id": "3e8995c6"
      },
      "source": [
        "2. Currently, the `names` and `insurance_costs` lists are separate, but we want each insurance cost to be paired with a name.\n",
        "\n",
        "   Create a new variable called `medical_records` that combines `insurance_costs` and `names` into a list using the `zip()` function.\n",
        "   \n",
        "   The list should have the following structure:\n",
        "   \n",
        "   ```py\n",
        "   [(cost_0, name_0), (cost_1, name_1), (cost_2, name_2), ...]\n",
        "   ```"
      ]
    },
    {
      "cell_type": "code",
      "execution_count": 2,
      "id": "e63ae8e7",
      "metadata": {
        "id": "e63ae8e7"
      },
      "outputs": [],
      "source": [
        "medical_records = list(zip(insurance_costs, names))"
      ]
    },
    {
      "cell_type": "markdown",
      "id": "c55bed8e",
      "metadata": {
        "id": "c55bed8e"
      },
      "source": [
        "3. Print out `medical_records` below, and make sure the output is what you expected."
      ]
    },
    {
      "cell_type": "code",
      "execution_count": 4,
      "id": "3f46631e",
      "metadata": {
        "colab": {
          "base_uri": "https://localhost:8080/"
        },
        "id": "3f46631e",
        "outputId": "150f887e-31db-4cfc-b223-50b14f5a85d9"
      },
      "outputs": [
        {
          "output_type": "stream",
          "name": "stdout",
          "text": [
            "[(13262.0, 'Mohamed'), (4816.0, 'Sara'), (6839.0, 'Xia'), (5054.0, 'Paul'), (14724.0, 'Valentina'), (5360.0, 'Jide'), (7640.0, 'Aaron'), (6072.0, 'Emily'), (2750.0, 'Nikita'), (12064.0, 'Paul'), (8320.0, 'Priscilla')]\n"
          ]
        }
      ],
      "source": [
        "print(medical_records)"
      ]
    },
    {
      "cell_type": "markdown",
      "id": "c7526357",
      "metadata": {
        "id": "c7526357"
      },
      "source": [
        "4. Let's explore our medical data.\n",
        "\n",
        "   We want to see how many medical records we are dealing with. Create a variable called `num_medical_records` that stores the length of `medical_records`."
      ]
    },
    {
      "cell_type": "code",
      "execution_count": 5,
      "id": "b1558949",
      "metadata": {
        "id": "b1558949"
      },
      "outputs": [],
      "source": [
        "num_medical_records = len(medical_records)"
      ]
    },
    {
      "cell_type": "markdown",
      "id": "6362dbf0",
      "metadata": {
        "id": "6362dbf0"
      },
      "source": [
        "5. Print `num_medical_records` with the following message:\n",
        "\n",
        "   ```\n",
        "   There are {number of medical records} medical records.\n",
        "   ```"
      ]
    },
    {
      "cell_type": "code",
      "execution_count": 7,
      "id": "fbdc5495",
      "metadata": {
        "colab": {
          "base_uri": "https://localhost:8080/"
        },
        "id": "fbdc5495",
        "outputId": "402a18f2-b9b3-4519-b46b-c28f71dbe7fd"
      },
      "outputs": [
        {
          "output_type": "stream",
          "name": "stdout",
          "text": [
            "There are 11 medical records.\n"
          ]
        }
      ],
      "source": [
        "print(\"There are \" + str(num_medical_records) + \" medical records.\")"
      ]
    },
    {
      "cell_type": "markdown",
      "id": "5f386c4f",
      "metadata": {
        "id": "5f386c4f"
      },
      "source": [
        "## Selecting List Elements"
      ]
    },
    {
      "cell_type": "markdown",
      "id": "89b7ec6c",
      "metadata": {
        "id": "89b7ec6c"
      },
      "source": [
        "6. Select the first medical record in `medical_records`, and save it to a variable called `first_medical_record`."
      ]
    },
    {
      "cell_type": "code",
      "execution_count": 8,
      "id": "53b88931",
      "metadata": {
        "id": "53b88931"
      },
      "outputs": [],
      "source": [
        "first_medical_record = medical_records[0]"
      ]
    },
    {
      "cell_type": "markdown",
      "id": "11f4431d",
      "metadata": {
        "id": "11f4431d"
      },
      "source": [
        "7. Print `first_medical_record` with the following message:\n",
        "\n",
        "   ```\n",
        "   Here is the first medical record: {first medical record}\n",
        "   ```"
      ]
    },
    {
      "cell_type": "code",
      "execution_count": 9,
      "id": "762a3af7",
      "metadata": {
        "colab": {
          "base_uri": "https://localhost:8080/"
        },
        "id": "762a3af7",
        "outputId": "bd3b9b23-09a6-45c7-e6fa-6e2a54928820"
      },
      "outputs": [
        {
          "output_type": "stream",
          "name": "stdout",
          "text": [
            "Here is the first medical record: (13262.0, 'Mohamed')\n"
          ]
        }
      ],
      "source": [
        "print(\"Here is the first medical record: \" + str(first_medical_record))"
      ]
    },
    {
      "cell_type": "markdown",
      "id": "61dc8ab3",
      "metadata": {
        "id": "61dc8ab3"
      },
      "source": [
        "## Sorting Lists"
      ]
    },
    {
      "cell_type": "markdown",
      "id": "555162db",
      "metadata": {
        "id": "555162db"
      },
      "source": [
        "8. Sort `medical_records` so that the individuals with the lowest insurance costs appear at the start of the list.\n",
        "\n",
        "   Print the sorted `medical_records` with the following message:\n",
        "   \n",
        "   ```\n",
        "   Here are the medical records sorted by insurance cost: {sorted list}\n",
        "   ```"
      ]
    },
    {
      "cell_type": "code",
      "execution_count": 29,
      "id": "8e23efbb",
      "metadata": {
        "colab": {
          "base_uri": "https://localhost:8080/"
        },
        "id": "8e23efbb",
        "outputId": "1d9b245a-65cb-4470-9ab8-8865b0421a48"
      },
      "outputs": [
        {
          "output_type": "stream",
          "name": "stdout",
          "text": [
            "Here are the medical records sorted by insurance cost: [(2750.0, 'Nikita'), (4816.0, 'Sara'), (5054.0, 'Paul'), (5360.0, 'Jide'), (6072.0, 'Emily'), (6839.0, 'Xia'), (7640.0, 'Aaron'), (8320.0, 'Priscilla'), (12064.0, 'Paul'), (13262.0, 'Mohamed'), (14724.0, 'Valentina')]\n"
          ]
        }
      ],
      "source": [
        "medical_records.sort()\n",
        "print(\"Here are the medical records sorted by insurance cost: \" + str(medical_records))"
      ]
    },
    {
      "cell_type": "markdown",
      "id": "8e3b29f8",
      "metadata": {
        "id": "8e3b29f8"
      },
      "source": [
        "## Slicing Lists"
      ]
    },
    {
      "cell_type": "markdown",
      "id": "2586554b",
      "metadata": {
        "id": "2586554b"
      },
      "source": [
        "9. Let's look at the three cheapest insurance costs in our medical records.\n",
        "\n",
        "   Slice the `medical_records` list, and store the three cheapest insurance costs in a list called `cheapest_three`."
      ]
    },
    {
      "cell_type": "code",
      "execution_count": 35,
      "id": "4155c88f",
      "metadata": {
        "colab": {
          "base_uri": "https://localhost:8080/"
        },
        "id": "4155c88f",
        "outputId": "cb991204-2371-4a3c-ce3f-b301919e954c"
      },
      "outputs": [
        {
          "output_type": "execute_result",
          "data": {
            "text/plain": [
              "[(2750.0, 'Nikita'), (4816.0, 'Sara'), (5054.0, 'Paul')]"
            ]
          },
          "metadata": {},
          "execution_count": 35
        }
      ],
      "source": [
        "cheapest_three = medical_records[:3] # Or list(sorted(medical_records)[:3])\n",
        "cheapest_three"
      ]
    },
    {
      "cell_type": "markdown",
      "id": "8c06c9f3",
      "metadata": {
        "id": "8c06c9f3"
      },
      "source": [
        "10. Print `cheapest_three` with the following message:\n",
        "\n",
        "    ```py\n",
        "    Here are the three cheapest insurance costs in our medical records: {cheapest three}\n",
        "    ```"
      ]
    },
    {
      "cell_type": "code",
      "execution_count": 31,
      "id": "1b9284dc",
      "metadata": {
        "colab": {
          "base_uri": "https://localhost:8080/"
        },
        "id": "1b9284dc",
        "outputId": "ec71bffc-2f54-4661-88e7-0d7877a6302c"
      },
      "outputs": [
        {
          "output_type": "stream",
          "name": "stdout",
          "text": [
            "Here are the three cheapest insurance costs in our medical records: [(2750.0, 'Nikita'), (4816.0, 'Sara'), (5054.0, 'Paul')]\n"
          ]
        }
      ],
      "source": [
        "print(\"Here are the three cheapest insurance costs in our medical records: \" + str(cheapest_three))"
      ]
    },
    {
      "cell_type": "markdown",
      "id": "5cb6dd31",
      "metadata": {
        "id": "5cb6dd31"
      },
      "source": [
        "11. Let's look at the three most expensive insurance costs in our medical records.\n",
        "\n",
        "    Slice the `medical_records` list, and store the three most expensive insurance costs in a list called `priciest_three`."
      ]
    },
    {
      "cell_type": "code",
      "execution_count": 32,
      "id": "017e1171",
      "metadata": {
        "colab": {
          "base_uri": "https://localhost:8080/"
        },
        "id": "017e1171",
        "outputId": "4335fe13-c5a3-486b-ed3c-4252989f7741"
      },
      "outputs": [
        {
          "output_type": "execute_result",
          "data": {
            "text/plain": [
              "[(12064.0, 'Paul'), (13262.0, 'Mohamed'), (14724.0, 'Valentina')]"
            ]
          },
          "metadata": {},
          "execution_count": 32
        }
      ],
      "source": [
        "priciest_three = medical_records[-3:] # Or list(sorted(medical_records)[-3:])\n",
        "priciest_three"
      ]
    },
    {
      "cell_type": "markdown",
      "id": "80054480",
      "metadata": {
        "id": "80054480"
      },
      "source": [
        "12. Print `priciest_three` with the following message:\n",
        "\n",
        "    ```\n",
        "    Here are the three most expensive insurance costs in our medical records: {priciest three}\n",
        "    ```"
      ]
    },
    {
      "cell_type": "code",
      "execution_count": 33,
      "id": "0ced2fb2",
      "metadata": {
        "colab": {
          "base_uri": "https://localhost:8080/"
        },
        "id": "0ced2fb2",
        "outputId": "15e31aaa-41e4-4598-abc6-22de963b4418"
      },
      "outputs": [
        {
          "output_type": "stream",
          "name": "stdout",
          "text": [
            "Here are the three most expensive insurance costs in our medical records: [(12064.0, 'Paul'), (13262.0, 'Mohamed'), (14724.0, 'Valentina')]\n"
          ]
        }
      ],
      "source": [
        "print(\"Here are the three most expensive insurance costs in our medical records: \" + str(priciest_three))"
      ]
    },
    {
      "cell_type": "markdown",
      "id": "d0ccbf5e",
      "metadata": {
        "id": "d0ccbf5e"
      },
      "source": [
        "## Counting Elements in a List"
      ]
    },
    {
      "cell_type": "markdown",
      "id": "8e0c2d7b",
      "metadata": {
        "id": "8e0c2d7b"
      },
      "source": [
        "13. Some individuals in our medical records have the same name. For example, the name \"Paul\" shows up twice.\n",
        "\n",
        "    Count the number of occurrences of \"Paul\" in the `names` list, and store the result in a variable called `occurrences_paul`.\n",
        "    \n",
        "    Print `occurrences_paul` with the following message:\n",
        "    \n",
        "    ```\n",
        "    There are {occurrences Paul} individuals with the name Paul in our medical records.\n",
        "    ```"
      ]
    },
    {
      "cell_type": "code",
      "execution_count": 34,
      "id": "1527cbb8",
      "metadata": {
        "colab": {
          "base_uri": "https://localhost:8080/"
        },
        "id": "1527cbb8",
        "outputId": "0f88ce82-6868-4dc5-f4c4-61c4655db905"
      },
      "outputs": [
        {
          "output_type": "stream",
          "name": "stdout",
          "text": [
            "There are 2 individuals with the name Paul in our medical records.\n"
          ]
        }
      ],
      "source": [
        "occurrences_paul = names.count(\"Paul\")\n",
        "print(\"There are \" + str(occurrences_paul) + \" individuals with the name Paul in our medical records.\")"
      ]
    },
    {
      "cell_type": "markdown",
      "id": "64a3032a",
      "metadata": {
        "id": "64a3032a"
      },
      "source": [
        "## Extra"
      ]
    },
    {
      "cell_type": "markdown",
      "id": "2850c8be",
      "metadata": {
        "id": "2850c8be"
      },
      "source": [
        "14. Great job! In this project, you worked with Python lists to store medical insurance cost data and then gained meaningful insight into that data.\n",
        "\n",
        "    You now have a better understanding of how to interact with data in lists - an important skill for a data scientist to have.\n",
        "    \n",
        "    Our dataset in this project was pretty small - we only dealt with 11 medical records. However, as you progress in your data science journey, you will encounter larger and more complex datasets. You are now better prepared to work with data in lists moving forward.\n",
        "    \n",
        "    If you'd like additional practice on lists, here are some ways you might extend this project:\n",
        "    - Sort the medical records alphabetically by name. You'll have to create a new list using `zip()` to do this.\n",
        "    - Select the medical records starting at index `3` and ending at index `7` and save it to a variable called `middle_five_records`.\n",
        "    \n",
        "    Happy coding!"
      ]
    },
    {
      "cell_type": "code",
      "execution_count": 37,
      "id": "149284a0",
      "metadata": {
        "colab": {
          "base_uri": "https://localhost:8080/"
        },
        "id": "149284a0",
        "outputId": "f464e45c-2707-4396-ef51-0d5c71cdc0e8"
      },
      "outputs": [
        {
          "output_type": "execute_result",
          "data": {
            "text/plain": [
              "[('Aaron', 13262.0),\n",
              " ('Emily', 4816.0),\n",
              " ('Jide', 6839.0),\n",
              " ('Mohamed', 5054.0),\n",
              " ('Nikita', 14724.0),\n",
              " ('Paul', 5360.0),\n",
              " ('Paul', 7640.0),\n",
              " ('Priscilla', 6072.0),\n",
              " ('Sara', 2750.0),\n",
              " ('Valentina', 12064.0),\n",
              " ('Xia', 8320.0)]"
            ]
          },
          "metadata": {},
          "execution_count": 37
        }
      ],
      "source": [
        "# Sort the medical records alphabetically by name. You'll have to create a new list using zip() to do this.\n",
        "names.sort()\n",
        "medical_records2 = list(zip(names, insurance_costs))\n",
        "medical_records2"
      ]
    },
    {
      "cell_type": "code",
      "execution_count": 38,
      "id": "575e405c",
      "metadata": {
        "colab": {
          "base_uri": "https://localhost:8080/"
        },
        "id": "575e405c",
        "outputId": "893a989f-e763-482c-d6cc-c02a3bc9321c"
      },
      "outputs": [
        {
          "output_type": "execute_result",
          "data": {
            "text/plain": [
              "[('Mohamed', 5054.0), ('Nikita', 14724.0), ('Paul', 5360.0), ('Paul', 7640.0)]"
            ]
          },
          "metadata": {},
          "execution_count": 38
        }
      ],
      "source": [
        "# Select the medical records starting at index 3 and ending at index 7 and save it to a variable called middle_five_records\n",
        "medical_records2[3:7]"
      ]
    }
  ],
  "metadata": {
    "kernelspec": {
      "display_name": "Python 3 (ipykernel)",
      "language": "python",
      "name": "python3"
    },
    "language_info": {
      "codemirror_mode": {
        "name": "ipython",
        "version": 3
      },
      "file_extension": ".py",
      "mimetype": "text/x-python",
      "name": "python",
      "nbconvert_exporter": "python",
      "pygments_lexer": "ipython3",
      "version": "3.7.11"
    },
    "colab": {
      "provenance": [],
      "include_colab_link": true
    }
  },
  "nbformat": 4,
  "nbformat_minor": 5
}